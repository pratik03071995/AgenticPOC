{
 "cells": [
  {
   "cell_type": "code",
   "execution_count": 0,
   "metadata": {
    "application/vnd.databricks.v1+cell": {
     "cellMetadata": {},
     "inputWidgets": {},
     "nuid": "0afb712a-c596-485e-91eb-62e2eb873e77",
     "showTitle": false,
     "tableResultSettingsMap": {},
     "title": ""
    }
   },
   "outputs": [],
   "source": [
    "import random\n",
    "\n",
    "WORDS = [\n",
    "    \"python\", \"developer\", \"hangman\", \"keyboard\", \"programming\",\n",
    "    \"function\", \"variable\", \"exception\", \"condition\", \"debugging\"\n",
    "]\n",
    "\n",
    "MAX_ATTEMPTS = 7\n",
    "\n",
    "def choose_word():\n",
    "    return random.choice(WORDS)\n",
    "\n",
    "def mask_word(word, guessed):\n",
    "    return ' '.join([char if char in guessed else '_' for char in word])\n",
    "\n",
    "def get_guess(guessed):\n",
    "    while True:\n",
    "        guess = input(\"Guess a letter: \").lower()\n",
    "        if len(guess) != 1 or not guess.isalpha():\n",
    "            print(\"❌ Enter a single alphabet.\")\n",
    "        elif guess in guessed:\n",
    "            print(\"⚠️ Already guessed.\")\n",
    "        else:\n",
    "            return guess\n",
    "\n",
    "def play_game():\n",
    "    word = choose_word()\n",
    "    guessed = set()\n",
    "    attempts = 0\n",
    "\n",
    "    print(\"🎉 Welcome to 'Guess the Word'!\")\n",
    "    print(\"Guess the word one letter at a time.\")\n",
    "    print(\"You have\", MAX_ATTEMPTS, \"wrong attempts.\\n\")\n",
    "\n",
    "    while attempts < MAX_ATTEMPTS:\n",
    "        print(\"Word:\", mask_word(word, guessed))\n",
    "        print(\"Guessed letters:\", ' '.join(sorted(guessed)))\n",
    "        print(f\"Attempts left: {MAX_ATTEMPTS - attempts}\")\n",
    "\n",
    "        guess = get_guess(guessed)\n",
    "        guessed.add(guess)\n",
    "\n",
    "        if guess in word:\n",
    "            print(\"✅ Correct!\\n\")\n",
    "            if all(char in guessed for char in word):\n",
    "                print(\"🎉 you won! The word was:\", word)\n",
    "                return\n",
    "        else:\n",
    "            print(\"❌ Incorrect.\\n\")\n",
    "            attempts += 1\n",
    "\n",
    "    print(\"💀 You lost! The word was:\", word)\n",
    "\n",
    "def main():\n",
    "    while True:\n",
    "        play_game()\n",
    "        again = input(\"\\n🔁 Play again? (y/n): \").lower()\n",
    "        if again != 'y':\n",
    "            print(\"👋 Goodbye!\")\n",
    "            break\n",
    "\n",
    "if __name__ == \"__main__\":\n",
    "    main()\n"
   ]
  }
 ],
 "metadata": {
  "application/vnd.databricks.v1+notebook": {
   "computePreferences": null,
   "dashboards": [],
   "environmentMetadata": {
    "base_environment": "",
    "environment_version": "2"
   },
   "inputWidgetPreferences": null,
   "language": "python",
   "notebookMetadata": {
    "pythonIndentUnit": 4
   },
   "notebookName": "guess_the_word",
   "widgets": {}
  },
  "language_info": {
   "name": "python"
  }
 },
 "nbformat": 4,
 "nbformat_minor": 0
}
