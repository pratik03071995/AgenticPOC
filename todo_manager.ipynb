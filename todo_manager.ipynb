{
 "cells": [
  {
   "cell_type": "code",
   "execution_count": 0,
   "metadata": {
    "application/vnd.databricks.v1+cell": {
     "cellMetadata": {},
     "inputWidgets": {},
     "nuid": "6bfa543f-3f09-4149-a99a-75bd1057fa14",
     "showTitle": false,
     "tableResultSettingsMap": {},
     "title": ""
    }
   },
   "outputs": [],
   "source": [
    "import json\n",
    "import os\n",
    "from datetime import datetime\n",
    "\n",
    "TODO_FILE = \"todos.json\"\n",
    "\n",
    "def load_todos():\n",
    "    if not os.path.exists(TODO_FILE):\n",
    "        return []\n",
    "    with open(TODO_FILE, \"r\") as f:\n",
    "        return json.load(f)\n",
    "\n",
    "def save_todos(todos):\n",
    "    with open(TODO_FILE, \"w\") as f:\n",
    "        json.dump(todos, f, indent=2)\n",
    "\n",
    "def list_todos(todos):\n",
    "    if not todos:\n",
    "        print(\"✅ No tasks.\")\n",
    "    else:\n",
    "        for i, todo in enumerate(todos, 1):\n",
    "            print(f\"{i}. {todo['task']} - {todo['status']} ({todo['created']})\")\n",
    "\n",
    "def add_todo(todos):\n",
    "    task = input(\"Enter task: \")\n",
    "    todos.append({\n",
    "        \"task\": task,\n",
    "        \"status\": \"Pending\",\n",
    "        \"created\": datetime.now().strftime(\"%Y-%m-%d %H:%M\")\n",
    "    })\n",
    "    print(\"📝 Task added.\")\n",
    "\n",
    "def mark_done(todos):\n",
    "    list_todos(todos)\n",
    "    idx = int(input(\"enter task number to mark done: \")) - 1\n",
    "    if 0 <= idx < len(todos):\n",
    "        todos[idx][\"status\"] = \"Done\"\n",
    "        print(\"✅ Task marked as done.\")\n",
    "\n",
    "def main():\n",
    "    todos = load_todos()\n",
    "    while True:\n",
    "        print(\"\\n1. List  2. Add  3. Done  4. Exit\")\n",
    "        choice = input(\"Choose: \")\n",
    "        if choice == \"1\":\n",
    "            list_todos(todos)\n",
    "        elif choice == \"2\":\n",
    "            add_todo(todos)\n",
    "        elif choice == \"3\":\n",
    "            mark_done(todos)\n",
    "        elif choice == \"4\":\n",
    "            save_todos(todos)\n",
    "            break\n",
    "        else:\n",
    "            print(\"❌ Invalid option.\")\n",
    "\n",
    "if __name__ == \"__main__\":\n",
    "    main()\n"
   ]
  }
 ],
 "metadata": {
  "application/vnd.databricks.v1+notebook": {
   "computePreferences": null,
   "dashboards": [],
   "environmentMetadata": {
    "base_environment": "",
    "environment_version": "2"
   },
   "inputWidgetPreferences": null,
   "language": "python",
   "notebookMetadata": {
    "pythonIndentUnit": 4
   },
   "notebookName": "todo_manager",
   "widgets": {}
  },
  "language_info": {
   "name": "python"
  }
 },
 "nbformat": 4,
 "nbformat_minor": 0
}
