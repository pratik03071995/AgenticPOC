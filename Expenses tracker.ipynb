{
 "cells": [
  {
   "cell_type": "code",
   "execution_count": 0,
   "metadata": {
    "application/vnd.databricks.v1+cell": {
     "cellMetadata": {},
     "inputWidgets": {},
     "nuid": "f608c0d5-faff-48bc-8527-d7b2a1d938ae",
     "showTitle": false,
     "tableResultSettingsMap": {},
     "title": ""
    }
   },
   "outputs": [],
   "source": [
    "import json\n",
    "from datetime import datetime\n",
    "\n",
    "DATA_FILE = 'expenses.json'\n",
    "\n",
    "def load_expenses():\n",
    "    try:\n",
    "        with open(DATA_FILE, 'r') as f:\n",
    "            return json.load(f)\n",
    "    except FileNotFoundError:\n",
    "        return []\n",
    "\n",
    "def save_expenses(expenses):\n",
    "    with open(DATA_FILE, 'w') as f:\n",
    "        json.dump(expenses, f, indent=2)\n",
    "\n",
    "def add_expense():\n",
    "    date = datetime.now().strftime('%Y-%m-%d %H:%M:%S')\n",
    "    category = input(\"Enter category (e.g., Food, Travel, Rent): \")\n",
    "    description = input(\"Enter description: \")\n",
    "    try:\n",
    "        amount = float(input(\"Enter amount: \"))\n",
    "    except ValueError:\n",
    "        print(\"Invalid amount. Please enter a number.\")\n",
    "        return\n",
    "    expense = {\n",
    "        \"date\": date,\n",
    "        \"category\": category,\n",
    "        \"description\": description,\n",
    "        \"amount\": amount\n",
    "    }\n",
    "    expenses = load_expenses()\n",
    "    expenses.append(expense)\n",
    "    save_expenses(expenses)\n",
    "    print(\"Expense added successfully.\")\n",
    "\n",
    "def view_expenses():\n",
    "    expenses = load_expenses()\n",
    "    if not expenses:\n",
    "        print(\"No expenses recorded.\")\n",
    "        return\n",
    "    for i, expense in enumerate(expenses, 1):\n",
    "        print(f\"{i}. {expense['date']} - {expense['category']} - {expense['description']} - ${expense['amount']:.2f}\")\n",
    "\n",
    "def total_spent():\n",
    "    expenses = load_expenses()\n",
    "    total = sum(item['amount'] for item in expenses)\n",
    "    print(f\"Total spent: ${total:.2f}\")\n",
    "\n",
    "def main():\n",
    "    while True:\n",
    "        print(\"\\nExpense Tracker Menu:\")\n",
    "        print(\"1. Add Expense\")\n",
    "        print(\"2. View Expenses\")\n",
    "        print(\"3. Total Spent\")\n",
    "        print(\"4. Exit\")\n",
    "        choice = input(\"Choose an option: \")\n",
    "        if choice == '1':\n",
    "            add_expense()\n",
    "        elif choice == '2':\n",
    "            view_expenses()\n",
    "        elif choice == '3':\n",
    "            total_spent()\n",
    "        elif choice == '4':\n",
    "            print(\"Goodbye!\")\n",
    "            break\n",
    "        else:\n",
    "            print(\"Invalid choice. Try again.\")\n",
    "\n",
    "if __name__ == \"__main__\":\n",
    "    main()\n"
   ]
  }
 ],
 "metadata": {
  "application/vnd.databricks.v1+notebook": {
   "computePreferences": null,
   "dashboards": [],
   "environmentMetadata": {
    "base_environment": "",
    "environment_version": "2"
   },
   "inputWidgetPreferences": null,
   "language": "python",
   "notebookMetadata": {
    "pythonIndentUnit": 4
   },
   "notebookName": "Expenses tracker",
   "widgets": {}
  },
  "language_info": {
   "name": "python"
  }
 },
 "nbformat": 4,
 "nbformat_minor": 0
}
