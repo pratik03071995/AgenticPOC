{
 "cells": [
  {
   "cell_type": "code",
   "execution_count": 0,
   "metadata": {
    "application/vnd.databricks.v1+cell": {
     "cellMetadata": {
      "byteLimit": 2048000,
      "rowLimit": 10000
     },
     "inputWidgets": {},
     "nuid": "b1e4fb82-4f76-4a9a-9010-c8e085d31a05",
     "showTitle": true,
     "tableResultSettingsMap": {},
     "title": "Simple Calculator"
    }
   },
   "outputs": [],
   "source": [
    "# Simple Calculator\n",
    "\n",
    "def add(x, y):\n",
    "    return x + y\n",
    "\n",
    "def subtract(x, y):\n",
    "    return x - y\n",
    "\n",
    "def multiply(x, y):\n",
    "    return x * y\n",
    "\n",
    "def divide(x, y):\n",
    "    if y == 0:\n",
    "        return \"Cannot divide by Zero\"\n",
    "    return x / y\n",
    "\n",
    "# Take input from a user\n",
    "print(\"Select Operation: +  -  *  /\")\n",
    "operation = input(\"Enter Operation: \")\n",
    "num1 = float(input(\"Enter First number: \"))\n",
    "num2 = float(input(\"Enter Second number: \"))\n",
    "\n",
    "# Perform operation\n",
    "if operation == '+':\n",
    "    print(\"Result:\", add(num1, num2))\n",
    "elif operation == '-':\n",
    "    print(\"Result:\", subtract(num1, num2))\n",
    "elif operation == '*':\n",
    "    print(\"Result:\", multiply(num1, num2))\n",
    "elif operation == '/':\n",
    "    print(\"Result:\", divide(num1, num2))\n",
    "else:\n",
    "    print(\"Invalid operation\")\n"
   ]
  }
 ],
 "metadata": {
  "application/vnd.databricks.v1+notebook": {
   "computePreferences": null,
   "dashboards": [],
   "environmentMetadata": {
    "base_environment": "",
    "environment_version": "2"
   },
   "inputWidgetPreferences": null,
   "language": "python",
   "notebookMetadata": {
    "pythonIndentUnit": 4
   },
   "notebookName": "Simple_calculator",
   "widgets": {}
  },
  "language_info": {
   "name": "python"
  }
 },
 "nbformat": 4,
 "nbformat_minor": 0
}
